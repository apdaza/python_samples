{
 "cells": [
  {
   "cell_type": "markdown",
   "metadata": {},
   "source": [
    "Importamos las librerías básicas"
   ]
  },
  {
   "cell_type": "code",
   "execution_count": 1,
   "metadata": {},
   "outputs": [],
   "source": [
    "import pandas as pd\n",
    "import numpy as np\n",
    "import nltk\n",
    "from wordcloud import WordCloud\n",
    "from textblob import TextBlob"
   ]
  },
  {
   "cell_type": "markdown",
   "metadata": {},
   "source": [
    "usamos pandas para leer el archivo y mostramos su encabezado"
   ]
  },
  {
   "cell_type": "code",
   "execution_count": 2,
   "metadata": {
    "scrolled": true
   },
   "outputs": [
    {
     "data": {
      "text/html": [
       "<div>\n",
       "<style scoped>\n",
       "    .dataframe tbody tr th:only-of-type {\n",
       "        vertical-align: middle;\n",
       "    }\n",
       "\n",
       "    .dataframe tbody tr th {\n",
       "        vertical-align: top;\n",
       "    }\n",
       "\n",
       "    .dataframe thead th {\n",
       "        text-align: right;\n",
       "    }\n",
       "</style>\n",
       "<table border=\"1\" class=\"dataframe\">\n",
       "  <thead>\n",
       "    <tr style=\"text-align: right;\">\n",
       "      <th></th>\n",
       "      <th>semestre</th>\n",
       "      <th>grupo</th>\n",
       "      <th>num_test</th>\n",
       "      <th>ent</th>\n",
       "      <th>sexo_ent</th>\n",
       "      <th>test</th>\n",
       "      <th>sexo_test</th>\n",
       "      <th>entrada</th>\n",
       "      <th>edad</th>\n",
       "      <th>ocupacion</th>\n",
       "      <th>pais</th>\n",
       "      <th>ciudad_dept</th>\n",
       "      <th>localidad_municipio</th>\n",
       "      <th>barrio</th>\n",
       "      <th>keywords</th>\n",
       "      <th>rta_uno</th>\n",
       "      <th>rta_dos</th>\n",
       "      <th>rta_tres</th>\n",
       "    </tr>\n",
       "  </thead>\n",
       "  <tbody>\n",
       "    <tr>\n",
       "      <th>0</th>\n",
       "      <td>2020-01-01</td>\n",
       "      <td>1.0</td>\n",
       "      <td>1</td>\n",
       "      <td>Camila Lozano</td>\n",
       "      <td>Femenino</td>\n",
       "      <td>Camila Lozano Jiménez</td>\n",
       "      <td>Femenino</td>\n",
       "      <td></td>\n",
       "      <td>19</td>\n",
       "      <td></td>\n",
       "      <td>Colombia</td>\n",
       "      <td>Bogotá</td>\n",
       "      <td>Engativá</td>\n",
       "      <td></td>\n",
       "      <td>salir, estudiar, clase, videollamada, universidad</td>\n",
       "      <td>\"Mínimo una vez al mes salía con mis amigas de...</td>\n",
       "      <td>\"Por el momento sólo estoy dedicada a estudiar...</td>\n",
       "      <td>\"Espero que cuando las cosas estén en calma pu...</td>\n",
       "    </tr>\n",
       "    <tr>\n",
       "      <th>1</th>\n",
       "      <td>2020-01-02</td>\n",
       "      <td>1.0</td>\n",
       "      <td>2</td>\n",
       "      <td>Camila Lozano</td>\n",
       "      <td>Femenino</td>\n",
       "      <td>Juan Felipe Samudio Sanchez</td>\n",
       "      <td>Masculino</td>\n",
       "      <td>NaN</td>\n",
       "      <td>18</td>\n",
       "      <td></td>\n",
       "      <td>Colombia</td>\n",
       "      <td>Bogotá</td>\n",
       "      <td>Engativá</td>\n",
       "      <td></td>\n",
       "      <td>prácticas profesionales, transporte, almorzar ...</td>\n",
       "      <td>\"entre semana de lunes a viernes yo ingresaba ...</td>\n",
       "      <td>\"Bueno mi vida tuvo un cambio totalmente brusc...</td>\n",
       "      <td>\"yo consideraría que mi vida se va a complejiz...</td>\n",
       "    </tr>\n",
       "    <tr>\n",
       "      <th>2</th>\n",
       "      <td>2020-01-03</td>\n",
       "      <td>1.0</td>\n",
       "      <td>3</td>\n",
       "      <td>Camila Lozano</td>\n",
       "      <td>Femenino</td>\n",
       "      <td>Sara Pulido Wilches</td>\n",
       "      <td>Femenino</td>\n",
       "      <td>NaN</td>\n",
       "      <td>22</td>\n",
       "      <td></td>\n",
       "      <td>Colombia</td>\n",
       "      <td>Bogotá</td>\n",
       "      <td>Teusaquillo</td>\n",
       "      <td></td>\n",
       "      <td>salir, casa, contagio</td>\n",
       "      <td>\"Me gustaba ir mucho cine con mis amigas,(...)...</td>\n",
       "      <td>\" En mi caso no es necesario que yo salga, (.....</td>\n",
       "      <td>\"Yo considero que va a ser muy difícil volver ...</td>\n",
       "    </tr>\n",
       "    <tr>\n",
       "      <th>3</th>\n",
       "      <td>2020-01-04</td>\n",
       "      <td>1.0</td>\n",
       "      <td>4</td>\n",
       "      <td>Camila Lozano</td>\n",
       "      <td>Femenino</td>\n",
       "      <td>Santiago Alonso Catañeda</td>\n",
       "      <td>Masculino</td>\n",
       "      <td>NaN</td>\n",
       "      <td>19</td>\n",
       "      <td></td>\n",
       "      <td>Alemania</td>\n",
       "      <td>NaN</td>\n",
       "      <td>NaN</td>\n",
       "      <td></td>\n",
       "      <td>redes, celular, computador</td>\n",
       "      <td>\"Tenía un computador donde hacía mis tareas, d...</td>\n",
       "      <td>\"El cambio fue como cerrar algunas redes socia...</td>\n",
       "      <td>\"Seguramente después de la pandemia, utilizo e...</td>\n",
       "    </tr>\n",
       "    <tr>\n",
       "      <th>4</th>\n",
       "      <td>2020-01-05</td>\n",
       "      <td>1.0</td>\n",
       "      <td>1</td>\n",
       "      <td>Camilo Rodriguez</td>\n",
       "      <td>Masculino</td>\n",
       "      <td>Camilo Rodríguez Gutierrez</td>\n",
       "      <td>Masculino</td>\n",
       "      <td></td>\n",
       "      <td>17</td>\n",
       "      <td></td>\n",
       "      <td>Colombia</td>\n",
       "      <td>Bogotá</td>\n",
       "      <td>Tunjuelito</td>\n",
       "      <td></td>\n",
       "      <td>casa, salir, normalidad, casa, ingresos, estud...</td>\n",
       "      <td>\"salía a caminar, hacer compras, aveces salía ...</td>\n",
       "      <td>\"Tuve que quedarme encerrado en mi casa, aunqu...</td>\n",
       "      <td>\"Espero que esta etapa acabe pronto para que h...</td>\n",
       "    </tr>\n",
       "  </tbody>\n",
       "</table>\n",
       "</div>"
      ],
      "text/plain": [
       "    semestre  grupo  num_test               ent   sexo_ent  \\\n",
       "0 2020-01-01    1.0         1     Camila Lozano   Femenino   \n",
       "1 2020-01-02    1.0         2     Camila Lozano   Femenino   \n",
       "2 2020-01-03    1.0         3     Camila Lozano   Femenino   \n",
       "3 2020-01-04    1.0         4     Camila Lozano   Femenino   \n",
       "4 2020-01-05    1.0         1  Camilo Rodriguez  Masculino   \n",
       "\n",
       "                          test  sexo_test entrada edad ocupacion      pais  \\\n",
       "0        Camila Lozano Jiménez   Femenino           19            Colombia   \n",
       "1  Juan Felipe Samudio Sanchez  Masculino     NaN   18            Colombia   \n",
       "2          Sara Pulido Wilches   Femenino     NaN   22            Colombia   \n",
       "3     Santiago Alonso Catañeda  Masculino     NaN   19            Alemania   \n",
       "4   Camilo Rodríguez Gutierrez  Masculino           17            Colombia   \n",
       "\n",
       "  ciudad_dept localidad_municipio barrio  \\\n",
       "0      Bogotá            Engativá          \n",
       "1      Bogotá            Engativá          \n",
       "2      Bogotá         Teusaquillo          \n",
       "3         NaN                 NaN          \n",
       "4      Bogotá          Tunjuelito          \n",
       "\n",
       "                                            keywords  \\\n",
       "0  salir, estudiar, clase, videollamada, universidad   \n",
       "1  prácticas profesionales, transporte, almorzar ...   \n",
       "2                              salir, casa, contagio   \n",
       "3                         redes, celular, computador   \n",
       "4  casa, salir, normalidad, casa, ingresos, estud...   \n",
       "\n",
       "                                             rta_uno  \\\n",
       "0  \"Mínimo una vez al mes salía con mis amigas de...   \n",
       "1  \"entre semana de lunes a viernes yo ingresaba ...   \n",
       "2  \"Me gustaba ir mucho cine con mis amigas,(...)...   \n",
       "3  \"Tenía un computador donde hacía mis tareas, d...   \n",
       "4  \"salía a caminar, hacer compras, aveces salía ...   \n",
       "\n",
       "                                             rta_dos  \\\n",
       "0  \"Por el momento sólo estoy dedicada a estudiar...   \n",
       "1  \"Bueno mi vida tuvo un cambio totalmente brusc...   \n",
       "2  \" En mi caso no es necesario que yo salga, (.....   \n",
       "3  \"El cambio fue como cerrar algunas redes socia...   \n",
       "4  \"Tuve que quedarme encerrado en mi casa, aunqu...   \n",
       "\n",
       "                                            rta_tres  \n",
       "0  \"Espero que cuando las cosas estén en calma pu...  \n",
       "1  \"yo consideraría que mi vida se va a complejiz...  \n",
       "2  \"Yo considero que va a ser muy difícil volver ...  \n",
       "3  \"Seguramente después de la pandemia, utilizo e...  \n",
       "4  \"Espero que esta etapa acabe pronto para que h...  "
      ]
     },
     "execution_count": 2,
     "metadata": {},
     "output_type": "execute_result"
    }
   ],
   "source": [
    "df = pd.read_excel('primero.xlsx')\n",
    "df.head()"
   ]
  },
  {
   "cell_type": "markdown",
   "metadata": {},
   "source": [
    "Presentamos información del dataframe"
   ]
  },
  {
   "cell_type": "code",
   "execution_count": 3,
   "metadata": {
    "scrolled": true
   },
   "outputs": [
    {
     "name": "stdout",
     "output_type": "stream",
     "text": [
      "<class 'pandas.core.frame.DataFrame'>\n",
      "RangeIndex: 449 entries, 0 to 448\n",
      "Data columns (total 18 columns):\n",
      " #   Column               Non-Null Count  Dtype         \n",
      "---  ------               --------------  -----         \n",
      " 0   semestre             449 non-null    datetime64[ns]\n",
      " 1   grupo                432 non-null    float64       \n",
      " 2   num_test             449 non-null    int64         \n",
      " 3   ent                  430 non-null    object        \n",
      " 4   sexo_ent             430 non-null    object        \n",
      " 5   test                 443 non-null    object        \n",
      " 6   sexo_test            444 non-null    object        \n",
      " 7   entrada              414 non-null    object        \n",
      " 8   edad                 444 non-null    object        \n",
      " 9   ocupacion            417 non-null    object        \n",
      " 10  pais                 449 non-null    object        \n",
      " 11  ciudad_dept          443 non-null    object        \n",
      " 12  localidad_municipio  417 non-null    object        \n",
      " 13  barrio               421 non-null    object        \n",
      " 14  keywords             444 non-null    object        \n",
      " 15  rta_uno              443 non-null    object        \n",
      " 16  rta_dos              443 non-null    object        \n",
      " 17  rta_tres             437 non-null    object        \n",
      "dtypes: datetime64[ns](1), float64(1), int64(1), object(15)\n",
      "memory usage: 63.3+ KB\n"
     ]
    }
   ],
   "source": [
    "df.info()"
   ]
  },
  {
   "cell_type": "code",
   "execution_count": 4,
   "metadata": {},
   "outputs": [
    {
     "data": {
      "text/html": [
       "<div>\n",
       "<style scoped>\n",
       "    .dataframe tbody tr th:only-of-type {\n",
       "        vertical-align: middle;\n",
       "    }\n",
       "\n",
       "    .dataframe tbody tr th {\n",
       "        vertical-align: top;\n",
       "    }\n",
       "\n",
       "    .dataframe thead th {\n",
       "        text-align: right;\n",
       "    }\n",
       "</style>\n",
       "<table border=\"1\" class=\"dataframe\">\n",
       "  <thead>\n",
       "    <tr style=\"text-align: right;\">\n",
       "      <th></th>\n",
       "      <th>grupo</th>\n",
       "      <th>num_test</th>\n",
       "    </tr>\n",
       "  </thead>\n",
       "  <tbody>\n",
       "    <tr>\n",
       "      <th>count</th>\n",
       "      <td>432.000000</td>\n",
       "      <td>449.000000</td>\n",
       "    </tr>\n",
       "    <tr>\n",
       "      <th>mean</th>\n",
       "      <td>17.243056</td>\n",
       "      <td>2.494432</td>\n",
       "    </tr>\n",
       "    <tr>\n",
       "      <th>std</th>\n",
       "      <td>10.014546</td>\n",
       "      <td>1.122255</td>\n",
       "    </tr>\n",
       "    <tr>\n",
       "      <th>min</th>\n",
       "      <td>1.000000</td>\n",
       "      <td>1.000000</td>\n",
       "    </tr>\n",
       "    <tr>\n",
       "      <th>25%</th>\n",
       "      <td>8.000000</td>\n",
       "      <td>1.000000</td>\n",
       "    </tr>\n",
       "    <tr>\n",
       "      <th>50%</th>\n",
       "      <td>18.000000</td>\n",
       "      <td>2.000000</td>\n",
       "    </tr>\n",
       "    <tr>\n",
       "      <th>75%</th>\n",
       "      <td>26.000000</td>\n",
       "      <td>3.000000</td>\n",
       "    </tr>\n",
       "    <tr>\n",
       "      <th>max</th>\n",
       "      <td>34.000000</td>\n",
       "      <td>4.000000</td>\n",
       "    </tr>\n",
       "  </tbody>\n",
       "</table>\n",
       "</div>"
      ],
      "text/plain": [
       "            grupo    num_test\n",
       "count  432.000000  449.000000\n",
       "mean    17.243056    2.494432\n",
       "std     10.014546    1.122255\n",
       "min      1.000000    1.000000\n",
       "25%      8.000000    1.000000\n",
       "50%     18.000000    2.000000\n",
       "75%     26.000000    3.000000\n",
       "max     34.000000    4.000000"
      ]
     },
     "execution_count": 4,
     "metadata": {},
     "output_type": "execute_result"
    }
   ],
   "source": [
    "df.describe()"
   ]
  },
  {
   "cell_type": "code",
   "execution_count": 5,
   "metadata": {},
   "outputs": [
    {
     "data": {
      "text/html": [
       "<div>\n",
       "<style scoped>\n",
       "    .dataframe tbody tr th:only-of-type {\n",
       "        vertical-align: middle;\n",
       "    }\n",
       "\n",
       "    .dataframe tbody tr th {\n",
       "        vertical-align: top;\n",
       "    }\n",
       "\n",
       "    .dataframe thead th {\n",
       "        text-align: right;\n",
       "    }\n",
       "</style>\n",
       "<table border=\"1\" class=\"dataframe\">\n",
       "  <thead>\n",
       "    <tr style=\"text-align: right;\">\n",
       "      <th></th>\n",
       "      <th>grupo</th>\n",
       "      <th>num_test</th>\n",
       "    </tr>\n",
       "  </thead>\n",
       "  <tbody>\n",
       "    <tr>\n",
       "      <th>grupo</th>\n",
       "      <td>1.000000</td>\n",
       "      <td>-0.002795</td>\n",
       "    </tr>\n",
       "    <tr>\n",
       "      <th>num_test</th>\n",
       "      <td>-0.002795</td>\n",
       "      <td>1.000000</td>\n",
       "    </tr>\n",
       "  </tbody>\n",
       "</table>\n",
       "</div>"
      ],
      "text/plain": [
       "             grupo  num_test\n",
       "grupo     1.000000 -0.002795\n",
       "num_test -0.002795  1.000000"
      ]
     },
     "execution_count": 5,
     "metadata": {},
     "output_type": "execute_result"
    }
   ],
   "source": [
    "df.corr()"
   ]
  },
  {
   "cell_type": "markdown",
   "metadata": {},
   "source": [
    "Hacemos un conteo de los valores de una de sus columnas "
   ]
  },
  {
   "cell_type": "code",
   "execution_count": 6,
   "metadata": {},
   "outputs": [
    {
     "data": {
      "text/plain": [
       "2020-01-01    386\n",
       "2020-01-04      4\n",
       "2020-01-03      4\n",
       "2020-01-06      4\n",
       "2020-01-05      4\n",
       "2020-01-02      4\n",
       "2020-01-07      4\n",
       "2020-01-10      3\n",
       "2020-01-09      3\n",
       "2020-01-12      3\n",
       "2020-01-11      3\n",
       "2020-01-13      3\n",
       "2020-01-08      3\n",
       "2020-01-14      2\n",
       "2020-01-15      2\n",
       "2020-01-16      2\n",
       "2020-01-27      1\n",
       "2020-01-23      1\n",
       "2020-01-31      1\n",
       "2020-01-17      1\n",
       "2020-01-20      1\n",
       "2020-01-22      1\n",
       "2020-01-26      1\n",
       "2020-01-19      1\n",
       "2020-01-24      1\n",
       "2020-01-29      1\n",
       "2020-01-30      1\n",
       "2020-01-18      1\n",
       "2020-01-25      1\n",
       "2020-01-21      1\n",
       "2020-01-28      1\n",
       "Name: semestre, dtype: int64"
      ]
     },
     "execution_count": 6,
     "metadata": {},
     "output_type": "execute_result"
    }
   ],
   "source": [
    "df['semestre'].value_counts()"
   ]
  },
  {
   "cell_type": "code",
   "execution_count": null,
   "metadata": {},
   "outputs": [],
   "source": [
    "Creamos dos columnas nuevas"
   ]
  },
  {
   "cell_type": "code",
   "execution_count": 33,
   "metadata": {},
   "outputs": [],
   "source": [
    "df['anio'] = df['semestre'].map(lambda x: x.year)\n",
    "df['periodo'] = df['semestre'].map(lambda x: x.month)"
   ]
  },
  {
   "cell_type": "code",
   "execution_count": 34,
   "metadata": {},
   "outputs": [
    {
     "data": {
      "text/plain": [
       "(2020    449\n",
       " Name: anio, dtype: int64,\n",
       " 1    449\n",
       " Name: periodo, dtype: int64)"
      ]
     },
     "execution_count": 34,
     "metadata": {},
     "output_type": "execute_result"
    }
   ],
   "source": [
    "df['anio'].value_counts(), df['periodo'].value_counts()"
   ]
  },
  {
   "cell_type": "code",
   "execution_count": 35,
   "metadata": {},
   "outputs": [
    {
     "data": {
      "text/plain": [
       "17    144\n",
       "18    106\n",
       "19     36\n",
       "20     21\n",
       "16     19\n",
       "23     17\n",
       "25     13\n",
       "22     13\n",
       "24     12\n",
       "21     12\n",
       "26     11\n",
       "27      8\n",
       "14      6\n",
       "15      4\n",
       "        3\n",
       "28      3\n",
       "30      3\n",
       "43      1\n",
       "57      1\n",
       "71      1\n",
       "50      1\n",
       "45      1\n",
       "58      1\n",
       "52      1\n",
       "40      1\n",
       "38      1\n",
       "31      1\n",
       "29      1\n",
       "12      1\n",
       "60      1\n",
       "Name: edad, dtype: int64"
      ]
     },
     "execution_count": 35,
     "metadata": {},
     "output_type": "execute_result"
    }
   ],
   "source": [
    "df['edad'].value_counts()"
   ]
  },
  {
   "cell_type": "code",
   "execution_count": 36,
   "metadata": {},
   "outputs": [
    {
     "data": {
      "text/plain": [
       "Colombia                429\n",
       "Argentina                 5\n",
       "Rusia                     2\n",
       "Venezuela                 2\n",
       "Estados Unidos            2\n",
       "Ecuador                   2\n",
       "Chile                     1\n",
       "Panamá                    1\n",
       "Bolivia                   1\n",
       "República Dominicana      1\n",
       "México                    1\n",
       "Mexico                    1\n",
       "Alemania                  1\n",
       "Name: pais, dtype: int64"
      ]
     },
     "execution_count": 36,
     "metadata": {},
     "output_type": "execute_result"
    }
   ],
   "source": [
    "df['pais'].value_counts()"
   ]
  },
  {
   "cell_type": "markdown",
   "metadata": {},
   "source": [
    "Traemos de nltk el set de stopwords para eliminarlas de las respuestas"
   ]
  },
  {
   "cell_type": "code",
   "execution_count": 37,
   "metadata": {},
   "outputs": [
    {
     "name": "stderr",
     "output_type": "stream",
     "text": [
      "[nltk_data] Downloading package stopwords to\n",
      "[nltk_data]     /home/alejandro/nltk_data...\n",
      "[nltk_data]   Package stopwords is already up-to-date!\n"
     ]
    }
   ],
   "source": [
    "from nltk.corpus import stopwords\n",
    "nltk.download('stopwords')\n",
    "stopwords = stopwords.words('spanish')"
   ]
  },
  {
   "cell_type": "code",
   "execution_count": 38,
   "metadata": {},
   "outputs": [],
   "source": [
    "def eliminar_stopwords(texto, stopwords):\n",
    "    return ' '.join([word for word in texto.split(' ') if word not in stopwords])"
   ]
  },
  {
   "cell_type": "code",
   "execution_count": 39,
   "metadata": {},
   "outputs": [],
   "source": [
    "df['respuesta_uno'] = df['rta_uno'].map(lambda x: eliminar_stopwords(str(x), stopwords))\n",
    "df['respuesta_dos'] = df['rta_dos'].map(lambda x: eliminar_stopwords(str(x), stopwords))\n",
    "df['respuesta_tres'] = df['rta_tres'].map(lambda x: eliminar_stopwords(str(x), stopwords))"
   ]
  },
  {
   "cell_type": "markdown",
   "metadata": {},
   "source": [
    "Sacamos los valores de polaridad usando TextBlob para las respuestas"
   ]
  },
  {
   "cell_type": "code",
   "execution_count": 40,
   "metadata": {},
   "outputs": [],
   "source": [
    "df['polaridad_uno'] = df['respuesta_uno'].map(lambda x: TextBlob(x).sentiment.polarity)\n",
    "df['polaridad_dos'] = df['respuesta_dos'].map(lambda x: TextBlob(x).sentiment.polarity)\n",
    "df['polaridad_tres'] = df['respuesta_tres'].map(lambda x: TextBlob(x).sentiment.polarity)\n"
   ]
  },
  {
   "cell_type": "markdown",
   "metadata": {},
   "source": [
    "Creamos la función de analisis sobre polaridad"
   ]
  },
  {
   "cell_type": "code",
   "execution_count": 41,
   "metadata": {},
   "outputs": [],
   "source": [
    "def getAnalysis(score):\n",
    "    if score < 0:\n",
    "        return 'Negative'\n",
    "    elif score == 0:\n",
    "        return 'Neutral'\n",
    "    else:\n",
    "        return 'Positive'"
   ]
  },
  {
   "cell_type": "code",
   "execution_count": 42,
   "metadata": {},
   "outputs": [],
   "source": [
    "df['ap_uno'] = df['polaridad_uno'].map(lambda x: getAnalysis(x))\n",
    "df['ap_dos'] = df['polaridad_dos'].map(lambda x: getAnalysis(x))\n",
    "df['ap_tres'] = df['polaridad_tres'].map(lambda x: getAnalysis(x))"
   ]
  },
  {
   "cell_type": "code",
   "execution_count": 46,
   "metadata": {},
   "outputs": [
    {
     "data": {
      "text/plain": [
       "Neutral     331\n",
       "Positive    115\n",
       "Negative      3\n",
       "Name: ap_uno, dtype: int64"
      ]
     },
     "execution_count": 46,
     "metadata": {},
     "output_type": "execute_result"
    }
   ],
   "source": [
    "df['ap_uno'].value_counts()"
   ]
  },
  {
   "cell_type": "code",
   "execution_count": 49,
   "metadata": {},
   "outputs": [
    {
     "data": {
      "text/html": [
       "<div>\n",
       "<style scoped>\n",
       "    .dataframe tbody tr th:only-of-type {\n",
       "        vertical-align: middle;\n",
       "    }\n",
       "\n",
       "    .dataframe tbody tr th {\n",
       "        vertical-align: top;\n",
       "    }\n",
       "\n",
       "    .dataframe thead th {\n",
       "        text-align: right;\n",
       "    }\n",
       "</style>\n",
       "<table border=\"1\" class=\"dataframe\">\n",
       "  <thead>\n",
       "    <tr style=\"text-align: right;\">\n",
       "      <th></th>\n",
       "      <th>ap_uno</th>\n",
       "      <th>pais</th>\n",
       "    </tr>\n",
       "  </thead>\n",
       "  <tbody>\n",
       "    <tr>\n",
       "      <th>0</th>\n",
       "      <td>Negative</td>\n",
       "      <td>3</td>\n",
       "    </tr>\n",
       "    <tr>\n",
       "      <th>1</th>\n",
       "      <td>Neutral</td>\n",
       "      <td>331</td>\n",
       "    </tr>\n",
       "    <tr>\n",
       "      <th>2</th>\n",
       "      <td>Positive</td>\n",
       "      <td>115</td>\n",
       "    </tr>\n",
       "  </tbody>\n",
       "</table>\n",
       "</div>"
      ],
      "text/plain": [
       "     ap_uno  pais\n",
       "0  Negative     3\n",
       "1   Neutral   331\n",
       "2  Positive   115"
      ]
     },
     "execution_count": 49,
     "metadata": {},
     "output_type": "execute_result"
    }
   ],
   "source": [
    "df_polaridad = df.groupby(['ap_uno'])['pais'].count().reset_index()\n",
    "df_polaridad.head()"
   ]
  },
  {
   "cell_type": "code",
   "execution_count": 50,
   "metadata": {},
   "outputs": [],
   "source": [
    "txts = ' '.join(df['respuesta_uno'])\n",
    "txts += ' '.join(df['respuesta_dos'])\n",
    "txts += ' '.join(df['respuesta_tres'])"
   ]
  },
  {
   "cell_type": "code",
   "execution_count": 51,
   "metadata": {},
   "outputs": [],
   "source": [
    "wc = WordCloud().generate(txts)"
   ]
  },
  {
   "cell_type": "code",
   "execution_count": 52,
   "metadata": {},
   "outputs": [
    {
     "data": {
      "image/png": "[encoded data removed]",
      "text/plain": [
       "<Figure size 432x288 with 1 Axes>"
      ]
     },
     "metadata": {
      "needs_background": "light"
     },
     "output_type": "display_data"
    }
   ],
   "source": [
    "import matplotlib.pyplot as plt\n",
    "plt.imshow(wc)\n",
    "plt.axis('off')\n",
    "plt.show()"
   ]
  },
  {
   "cell_type": "code",
   "execution_count": 53,
   "metadata": {},
   "outputs": [
    {
     "data": {
      "text/plain": [
       "0    0.00\n",
       "1    0.00\n",
       "2    0.00\n",
       "3    0.00\n",
       "4    0.15\n",
       "Name: polaridad_uno, dtype: float64"
      ]
     },
     "execution_count": 53,
     "metadata": {},
     "output_type": "execute_result"
    }
   ],
   "source": [
    "df['polaridad_uno'].head()"
   ]
  },
  {
   "cell_type": "code",
   "execution_count": null,
   "metadata": {},
   "outputs": [],
   "source": []
  }
 ],
 "metadata": {
  "kernelspec": {
   "display_name": "Python 3",
   "language": "python",
   "name": "python3"
  },
  "language_info": {
   "codemirror_mode": {
    "name": "ipython",
    "version": 3
   },
   "file_extension": ".py",
   "mimetype": "text/x-python",
   "name": "python",
   "nbconvert_exporter": "python",
   "pygments_lexer": "ipython3",
   "version": "3.8.5"
  }
 },
 "nbformat": 4,
 "nbformat_minor": 2
}
